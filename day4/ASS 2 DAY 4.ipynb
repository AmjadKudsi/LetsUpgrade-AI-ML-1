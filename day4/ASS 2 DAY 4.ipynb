{
 "cells": [
  {
   "cell_type": "code",
   "execution_count": 2,
   "metadata": {
    "collapsed": false
   },
   "outputs": [
   ],
   "source": [
    "#Ass 2 Day 4"
   ]
  },
  {
   "cell_type": "code",
   "execution_count": 3,
   "metadata": {
    "collapsed": false
   },
   "outputs": [
    {
     "name": "stdout",
     "output_type": "stream",
     "text": [
      "addition is =  (9+11j)\n",
      "subtraction is =  (-1-1j)\n",
      "multiplication is =  (-10+49j)\n",
      "division is =  (0.8196721311475409+0.01639344262295085j)\n",
      "thank you!!!\n"
     ]
    }
   ],
   "source": [
    "#Q1\n",
    "\n",
    "a=4+5j\n",
    "b=5+6j\n",
    "c=a+b\n",
    "d=a-b\n",
    "e=a*b\n",
    "f=a/b\n",
    "#d=a%b\n",
    "print(\"addition is = \",c)\n",
    "print(\"subtraction is = \",d)\n",
    "print(\"multiplication is = \",e)\n",
    "print(\"division is = \",f)\n",
    "print(\"thank you!!!\")"
   ]
  },
  {
   "cell_type": "code",
   "execution_count": 4,
   "metadata": {
    "collapsed": false
   },
   "outputs": [
    {
     "name": "stdout",
     "output_type": "stream",
     "text": [
      "Print numbers from range 0 to 10\n",
      "0\n",
      "1\n",
      "2\n",
      "3\n",
      "4\n",
      "5\n",
      "6\n",
      "7\n",
      "8\n",
      "9\n"
     ]
    }
   ],
   "source": [
    "#Q2\n",
    "\n",
    "#example of range() function\n",
    "print(\"Print numbers from range 0 to 10\")\n",
    "for i in range(10):\n",
    "    print(i)\n"
   ]
  },
  {
   "cell_type": "code",
   "execution_count": 5,
   "metadata": {
    "collapsed": false
   },
   "outputs": [
    {
     "name": "stdout",
     "output_type": "stream",
     "text": [
      "(square-2) of Numbers divisible by 2 are =\n",
      "574\n",
      "2114\n",
      "2\n",
      "7742\n",
      "9214\n",
      "3134\n"
     ]
    }
   ],
   "source": [
    "#Q3\n",
    "\n",
    "print('(square-2) of Numbers divisible by 2 are =')\n",
    "lst=[24,69,46,2,51,89,88,96,77,56]\n",
    "for i in lst:\n",
    "    if i%2==0:\n",
    "        a=(i**2)-2\n",
    "        \n",
    "        #print(\"Numbers divisible by 2 are = \")\n",
    "        print(a)"
   ]
  },
  {
   "cell_type": "code",
   "execution_count": 6,
   "metadata": {
    "collapsed": false
   },
   "outputs": [
    {
     "name": "stdout",
     "output_type": "stream",
     "text": [
      "69\n",
      "46\n",
      "51\n",
      "88\n",
      "96\n",
      "77\n"
     ]
    }
   ],
   "source": [
    "#Q4\n",
    "\n",
    "\n",
    "lst=[4,69,46,2,51,8,88,96,77,6]\n",
    "for i in lst:\n",
    "    if (i/2)>7:\n",
    "        print(i)"
   ]
  },
  {
   "cell_type": "code",
   "execution_count": 0,
   "metadata": {
    "collapsed": false
   },
   "outputs": [
   ],
   "source": [
   ]
  }
 ],
 "metadata": {
  "kernelspec": {
   "display_name": "Python 3 (system-wide)",
   "language": "python",
   "metadata": {
    "cocalc": {
     "description": "Python 3 programming language",
     "priority": 100,
     "url": "https://www.python.org/"
    }
   },
   "name": "python3"
  },
  "language_info": {
   "codemirror_mode": {
    "name": "ipython",
    "version": 3
   },
   "file_extension": ".py",
   "mimetype": "text/x-python",
   "name": "python",
   "nbconvert_exporter": "python",
   "pygments_lexer": "ipython3",
   "version": "3.6.9"
  }
 },
 "nbformat": 4,
 "nbformat_minor": 4
}
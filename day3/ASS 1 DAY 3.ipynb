{
 "cells": [
  {
   "cell_type": "markdown",
   "metadata": {
    "collapsed": false
   },
   "source": [
    "#Assignment Day 3\n"
   ]
  },
  {
   "cell_type": "code",
   "execution_count": 1,
   "metadata": {
    "collapsed": false
   },
   "outputs": [
    {
     "name": "stdout",
     "output_type": "stream",
     "text": [
      "subtraction is = (-2-55j)\n"
     ]
    }
   ],
   "source": [
    "#Q1\n",
    "\n",
    "a=2+34j\n",
    "b=4+89j\n",
    "c=a-b\n",
    "print(\"subtraction is =\",c)"
   ]
  },
  {
   "cell_type": "code",
   "execution_count": 2,
   "metadata": {
    "collapsed": false
   },
   "outputs": [
    {
     "name": "stdout",
     "output_type": "stream",
     "text": [
      "fourth root of 69 = 22667121\n"
     ]
    }
   ],
   "source": [
    "#Q2\n",
    "\n",
    "a= 69**4\n",
    "print(\"fourth root of 69 =\",a)"
   ]
  },
  {
   "cell_type": "code",
   "execution_count": 4,
   "metadata": {
    "collapsed": false
   },
   "outputs": [
    {
     "name": "stdout",
     "output_type": "stream",
     "text": [
      "98\n",
      "69\n"
     ]
    }
   ],
   "source": [
    "#Q3\n",
    "\n",
    "#swap with temp\n",
    "a=69\n",
    "b=98\n",
    "t=a\n",
    "a=b\n",
    "b=t\n",
    "#a=b\n",
    "print(a)\n",
    "print(b)"
   ]
  },
  {
   "cell_type": "code",
   "execution_count": 5,
   "metadata": {
    "collapsed": false
   },
   "outputs": [
    {
     "name": "stdout",
     "output_type": "stream",
     "text": [
      "98\n",
      "69\n"
     ]
    }
   ],
   "source": [
    "#Q4\n",
    "\n",
    "#swap without temp\n",
    "a=69\n",
    "b=98\n",
    "a=a+b\n",
    "b=a-b\n",
    "a=a-b\n",
    "print(a)\n",
    "print(b)"
   ]
  },
  {
   "cell_type": "code",
   "execution_count": 6,
   "metadata": {
    "collapsed": false
   },
   "outputs": [
    {
     "name": "stdout",
     "output_type": "stream",
     "text": [
      "Celsius =  20.555555555555557\n",
      "Kelvin =  293.7055555555555\n"
     ]
    }
   ],
   "source": [
    "#Q5\n",
    "\n",
    "#fahrenite to deg cellsius and kelvin\n",
    "\n",
    "a=69\n",
    "b=(a-32)*5/9\n",
    "c=(a-32)*5/9+273.15\n",
    "print(\"Celsius = \",b)\n",
    "print(\"Kelvin = \",c)"
   ]
  },
  {
   "cell_type": "code",
   "execution_count": 7,
   "metadata": {
    "collapsed": false
   },
   "outputs": [
    {
     "name": "stdout",
     "output_type": "stream",
     "text": [
      "<class 'int'>\n",
      "<class 'float'>\n",
      "<class 'str'>\n",
      "<class 'str'>\n",
      "<class 'list'>\n"
     ]
    }
   ],
   "source": [
    "#Q6\n",
    "\n",
    "a=69\n",
    "b=69.696969696969\n",
    "c=\"Targaryen\"\n",
    "d=\"s\"\n",
    "lst=[69.69,69,\"lmoa\"]\n",
    "print(type(a))\n",
    "print(type(b))\n",
    "print(type(c))\n",
    "print(type(d))\n",
    "print(type(lst))"
   ]
  },
  {
   "cell_type": "markdown",
   "metadata": {
    "collapsed": false
   },
   "source": [
    "\n",
    "#Q7 :-\n",
    "\n",
    "ans -\n",
    "1) Login to github account ,if acc not available create one 2) login after creating account 3) create a new repository 4) upload your assignment in newly created repository 5) submit the github link having all the solved assignments"
   ]
  }
 ],
 "metadata": {
  "kernelspec": {
   "display_name": "Python 3 (system-wide)",
   "language": "python",
   "metadata": {
    "cocalc": {
     "description": "Python 3 programming language",
     "priority": 100,
     "url": "https://www.python.org/"
    }
   },
   "name": "python3"
  },
  "language_info": {
   "codemirror_mode": {
    "name": "ipython",
    "version": 3
   },
   "file_extension": ".py",
   "mimetype": "text/x-python",
   "name": "python",
   "nbconvert_exporter": "python",
   "pygments_lexer": "ipython3",
   "version": "3.6.9"
  }
 },
 "nbformat": 4,
 "nbformat_minor": 4
}